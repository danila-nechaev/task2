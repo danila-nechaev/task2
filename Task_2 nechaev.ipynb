{
 "cells": [
  {
   "cell_type": "markdown",
   "metadata": {},
   "source": [
    "# Задание 2.\n",
    "\n",
    "**NB. Все упражнения ниже нужно делать без использования циклов Python в явном (`while`, `for`) и неявном виде (list comprehension, `map`, `reduce` и пр)**\n",
    "\n",
    "Задания по манипуляциям с массивами чаще всего решаются в одно/два выражения. "
   ]
  },
  {
   "cell_type": "code",
   "execution_count": 1,
   "metadata": {},
   "outputs": [
    {
     "data": {
      "text/plain": [
       "array([[30, 62, 83, ..., 91, 15, 85],\n",
       "       [36, 13, 37, ..., 93, 22, 50],\n",
       "       [75, 20, 10, ..., 95, 14, 99],\n",
       "       ...,\n",
       "       [ 0, 42, 64, ..., 86, 26, 86],\n",
       "       [72,  5, 54, ..., 33, 53, 29],\n",
       "       [40, 16, 68, ...,  8, 87, 44]])"
      ]
     },
     "execution_count": 1,
     "metadata": {},
     "output_type": "execute_result"
    }
   ],
   "source": [
    "%matplotlib inline\n",
    "\n",
    "import numpy as np\n",
    "import matplotlib.pyplot as plt\n",
    "import seaborn as sns\n",
    "sns.set_theme()\n",
    "\n",
    "A = np.random.randint(0, 100, size=(200, 50))\n",
    "A"
   ]
  },
  {
   "cell_type": "markdown",
   "metadata": {},
   "source": [
    "# Задание 2.1 (2 балла)\n",
    "\n",
    "Сгенерируйте новый массив, в котором столбцы массива `A` переставлены в случайном порядке"
   ]
  },
  {
   "cell_type": "code",
   "execution_count": 3,
   "metadata": {},
   "outputs": [
    {
     "data": {
      "text/plain": [
       "array([[42, 11, 15, ..., 96, 62, 86],\n",
       "       [71, 86, 22, ..., 79, 13, 18],\n",
       "       [56, 20, 14, ..., 95, 20, 80],\n",
       "       ...,\n",
       "       [64, 91, 26, ..., 41, 42,  4],\n",
       "       [ 1, 22, 53, ..., 45,  5,  6],\n",
       "       [25, 58, 87, ..., 66, 16, 68]])"
      ]
     },
     "execution_count": 3,
     "metadata": {},
     "output_type": "execute_result"
    }
   ],
   "source": [
    "B = A[:, np.random.permutation(A.shape[1])]\n",
    "B"
   ]
  },
  {
   "cell_type": "markdown",
   "metadata": {},
   "source": [
    "# Задание 2.2 (5 баллов)\n",
    "\n",
    "Сгенерируйте новый массив, который содержит только те строки массива `A`, в которых: \n",
    "- сумма элементов по четным столбцам (индексы $0, 2, \\ldots$) больше среднего значения (по всему массиву) суммы элементов по нечетным столбцам (индексы $1, 3, \\ldots$) "
   ]
  },
  {
   "cell_type": "code",
   "execution_count": 7,
   "metadata": {},
   "outputs": [
    {
     "data": {
      "text/plain": [
       "array([[ 6,  7,  8,  9, 10],\n",
       "       [ 1,  2,  5,  4,  5]])"
      ]
     },
     "execution_count": 7,
     "metadata": {},
     "output_type": "execute_result"
    }
   ],
   "source": [
    "x = np.array([[1, 20, 3, 4, 0], [1, 136, 5, 7, 8], [6, 7, 8, 9, 10], [1, 2, 5, 4, 5]])\n",
    "x\n",
    "mean = x[:, 1::2]\n",
    "mean_arr = mean.mean(axis=1)\n",
    "mean_arr\n",
    "sum_in_row = x[:, ::2].sum(axis=1)\n",
    "sum_in_row\n",
    "sum_in_row > mean_arr\n",
    "x[sum_in_row > mean_arr]"
   ]
  },
  {
   "cell_type": "markdown",
   "metadata": {},
   "source": [
    "# Задача 2.3 (3 балла)\n",
    "\n",
    "Найдите индекс строки массива `A`, в которой разница между максимальным и минимальным элементом максимальна"
   ]
  },
  {
   "cell_type": "code",
   "execution_count": 23,
   "metadata": {},
   "outputs": [
    {
     "name": "stdout",
     "output_type": "stream",
     "text": [
      "0\n"
     ]
    }
   ],
   "source": [
    "test = np.array([[1, 200, 3, 4, 0], [1, 136, 5, 7, 8], [6, 7, 8, 9, 10], [1, 2, 5, 4, 5]])\n",
    "hd = np.max(test,axis=1)\n",
    "ld = np.min(test, axis=1)\n",
    "print((hd-ld).argmax())"
   ]
  },
  {
   "cell_type": "markdown",
   "metadata": {},
   "source": [
    "# Задание 2.4 (7 баллов)\n",
    "\n",
    "Сгенерируйте массив той же размерности, что и `A`, но в котором каждый элемент заменен на его порядковый номер (начиная с 1) в отсортированном по возрастанию массиве из элементов `A`\n",
    "\n",
    "Если `A` выглядит так:\n",
    "$$\n",
    "\\begin{pmatrix}\n",
    "12 & 14\\\\\n",
    "1 & 2\n",
    "\\end{pmatrix}\n",
    "$$\n",
    "то результат должен быть\n",
    "$$\n",
    "\\begin{pmatrix}\n",
    "3 & 4\\\\\n",
    "1 & 2\n",
    "\\end{pmatrix}\n",
    "$$\n",
    "\n",
    "*Tip: рассмотрите возможность неоднократного применения [argsort()](https://numpy.org/doc/stable/reference/generated/numpy.ndarray.argsort.html)*"
   ]
  },
  {
   "cell_type": "code",
   "execution_count": 58,
   "metadata": {},
   "outputs": [],
   "source": [
    "test = np.array([[1, 20, 3, 4, 0], [1, 136, 5, 7, 8], [6, 7, 8, 9, 10], [1, 2, 5, 4, 5]])\n"
   ]
  },
  {
   "cell_type": "code",
   "execution_count": 67,
   "metadata": {},
   "outputs": [
    {
     "data": {
      "text/plain": [
       "array([[ 2, 19,  6,  7,  1],\n",
       "       [ 3, 20, 11, 14, 16],\n",
       "       [12, 13, 15, 17, 18],\n",
       "       [ 4,  5,  9,  8, 10]], dtype=int64)"
      ]
     },
     "execution_count": 67,
     "metadata": {},
     "output_type": "execute_result"
    }
   ],
   "source": [
    "np.argsort(np.argsort(test, axis=None).reshape(test.shape), axis=None).reshape(test.shape) + 1"
   ]
  },
  {
   "cell_type": "code",
   "execution_count": 66,
   "metadata": {},
   "outputs": [
    {
     "ename": "IndexError",
     "evalue": "index 60 is out of bounds for axis 0 with size 20",
     "output_type": "error",
     "traceback": [
      "\u001b[1;31m---------------------------------------------------------------------------\u001b[0m",
      "\u001b[1;31mIndexError\u001b[0m                                Traceback (most recent call last)",
      "\u001b[1;32mc:\\Users\\MSI-PC\\Desktop\\my dz po pitonu\\Task_2 nechaev.ipynb Cell 12\u001b[0m in \u001b[0;36m<cell line: 4>\u001b[1;34m()\u001b[0m\n\u001b[0;32m      <a href='vscode-notebook-cell:/c%3A/Users/MSI-PC/Desktop/my%20dz%20po%20pitonu/Task_2%20nechaev.ipynb#X20sZmlsZQ%3D%3D?line=3'>4</a>\u001b[0m \u001b[39mfor\u001b[39;00m i \u001b[39min\u001b[39;00m \u001b[39mrange\u001b[39m(\u001b[39mlen\u001b[39m(P)):\n\u001b[0;32m      <a href='vscode-notebook-cell:/c%3A/Users/MSI-PC/Desktop/my%20dz%20po%20pitonu/Task_2%20nechaev.ipynb#X20sZmlsZQ%3D%3D?line=4'>5</a>\u001b[0m     \u001b[39mfor\u001b[39;00m j \u001b[39min\u001b[39;00m \u001b[39mrange\u001b[39m(\u001b[39mlen\u001b[39m(P[\u001b[39m0\u001b[39m])):\n\u001b[1;32m----> <a href='vscode-notebook-cell:/c%3A/Users/MSI-PC/Desktop/my%20dz%20po%20pitonu/Task_2%20nechaev.ipynb#X20sZmlsZQ%3D%3D?line=5'>6</a>\u001b[0m         result[\u001b[39m0\u001b[39m][b[i][j]] \u001b[39m=\u001b[39m k\n\u001b[0;32m      <a href='vscode-notebook-cell:/c%3A/Users/MSI-PC/Desktop/my%20dz%20po%20pitonu/Task_2%20nechaev.ipynb#X20sZmlsZQ%3D%3D?line=6'>7</a>\u001b[0m         k \u001b[39m+\u001b[39m\u001b[39m=\u001b[39m \u001b[39m1\u001b[39m\n\u001b[0;32m      <a href='vscode-notebook-cell:/c%3A/Users/MSI-PC/Desktop/my%20dz%20po%20pitonu/Task_2%20nechaev.ipynb#X20sZmlsZQ%3D%3D?line=8'>9</a>\u001b[0m \u001b[39mprint\u001b[39m(result\u001b[39m.\u001b[39mreshape(test\u001b[39m.\u001b[39mshape))\n",
      "\u001b[1;31mIndexError\u001b[0m: index 60 is out of bounds for axis 0 with size 20"
     ]
    }
   ],
   "source": [
    "P = np.argsort(test, axis=None).reshape(test.shape)\n",
    "result = test.copy().reshape(1, 20)\n",
    "k = 1\n",
    "for i in range(len(P)):\n",
    "    for j in range(len(P[0])):\n",
    "        result[0][b[i][j]] = k\n",
    "        k += 1\n",
    "\n",
    "print(result.reshape(test.shape))"
   ]
  },
  {
   "cell_type": "code",
   "execution_count": 61,
   "metadata": {},
   "outputs": [
    {
     "data": {
      "text/plain": [
       "array([[ 2, 19,  6,  7,  1],\n",
       "       [ 3, 20, 11, 14, 16],\n",
       "       [12, 13, 15, 17, 18],\n",
       "       [ 4,  5,  9,  8, 10]], dtype=int64)"
      ]
     },
     "execution_count": 61,
     "metadata": {},
     "output_type": "execute_result"
    }
   ],
   "source": [
    "np.argsort(P, axis=None).reshape(test.shape)+1"
   ]
  },
  {
   "cell_type": "markdown",
   "metadata": {},
   "source": [
    "# Задание 2.5 (2 балла)\n",
    "\n",
    "Примените $\\min-\\max$ - нормализацию к строкам массива `A`. То есть нужно получить новый массивы, в каждой строке которого максимальный элементы равен $1$, минимальный - $0$. "
   ]
  },
  {
   "cell_type": "code",
   "execution_count": 68,
   "metadata": {},
   "outputs": [
    {
     "data": {
      "text/plain": [
       "array([[0.3030303 , 0.62626263, 0.83838384, ..., 0.91919192, 0.15151515,\n",
       "        0.85858586],\n",
       "       [0.33684211, 0.09473684, 0.34736842, ..., 0.93684211, 0.18947368,\n",
       "        0.48421053],\n",
       "       [0.75757576, 0.2020202 , 0.1010101 , ..., 0.95959596, 0.14141414,\n",
       "        1.        ],\n",
       "       ...,\n",
       "       [0.        , 0.42424242, 0.64646465, ..., 0.86868687, 0.26262626,\n",
       "        0.86868687],\n",
       "       [0.7244898 , 0.04081633, 0.54081633, ..., 0.32653061, 0.53061224,\n",
       "        0.28571429],\n",
       "       [0.44444444, 0.17777778, 0.75555556, ..., 0.08888889, 0.96666667,\n",
       "        0.48888889]])"
      ]
     },
     "execution_count": 68,
     "metadata": {},
     "output_type": "execute_result"
    }
   ],
   "source": [
    "np.transpose((A.T - np.min(A, axis=1)) / (np.max(A, axis=1) - np.min(A, axis=1)))"
   ]
  },
  {
   "cell_type": "markdown",
   "metadata": {},
   "source": [
    "# Задание 2.6 (2 балла)\n",
    "\n",
    "Сгенерируйте новый трехмерный массив, размерности $10 \\times 200 \\times 50$. Подмассивы по нулевой оси должны состоять из элементов `A`, умноженных на $1 - 10$ соответственно"
   ]
  },
  {
   "cell_type": "code",
   "execution_count": 87,
   "metadata": {},
   "outputs": [
    {
     "name": "stdout",
     "output_type": "stream",
     "text": [
      "[[  1  20   3   4   0]\n",
      " [  1 136   5   7   8]\n",
      " [  6   7   8   9  10]\n",
      " [  1   2   5   4   5]]\n"
     ]
    },
    {
     "data": {
      "text/plain": [
       "array([[[   1,   20,    3,    4],\n",
       "        [   0,    1,  136,    5],\n",
       "        [   7,    8,    6,    7],\n",
       "        [   8,    9,   10,    1],\n",
       "        [   2,    5,    4,    5]],\n",
       "\n",
       "       [[   2,   40,    6,    8],\n",
       "        [   0,    2,  272,   10],\n",
       "        [  14,   16,   12,   14],\n",
       "        [  16,   18,   20,    2],\n",
       "        [   4,   10,    8,   10]],\n",
       "\n",
       "       [[   3,   60,    9,   12],\n",
       "        [   0,    3,  408,   15],\n",
       "        [  21,   24,   18,   21],\n",
       "        [  24,   27,   30,    3],\n",
       "        [   6,   15,   12,   15]],\n",
       "\n",
       "       [[   4,   80,   12,   16],\n",
       "        [   0,    4,  544,   20],\n",
       "        [  28,   32,   24,   28],\n",
       "        [  32,   36,   40,    4],\n",
       "        [   8,   20,   16,   20]],\n",
       "\n",
       "       [[   5,  100,   15,   20],\n",
       "        [   0,    5,  680,   25],\n",
       "        [  35,   40,   30,   35],\n",
       "        [  40,   45,   50,    5],\n",
       "        [  10,   25,   20,   25]],\n",
       "\n",
       "       [[   6,  120,   18,   24],\n",
       "        [   0,    6,  816,   30],\n",
       "        [  42,   48,   36,   42],\n",
       "        [  48,   54,   60,    6],\n",
       "        [  12,   30,   24,   30]],\n",
       "\n",
       "       [[   7,  140,   21,   28],\n",
       "        [   0,    7,  952,   35],\n",
       "        [  49,   56,   42,   49],\n",
       "        [  56,   63,   70,    7],\n",
       "        [  14,   35,   28,   35]],\n",
       "\n",
       "       [[   8,  160,   24,   32],\n",
       "        [   0,    8, 1088,   40],\n",
       "        [  56,   64,   48,   56],\n",
       "        [  64,   72,   80,    8],\n",
       "        [  16,   40,   32,   40]],\n",
       "\n",
       "       [[   9,  180,   27,   36],\n",
       "        [   0,    9, 1224,   45],\n",
       "        [  63,   72,   54,   63],\n",
       "        [  72,   81,   90,    9],\n",
       "        [  18,   45,   36,   45]],\n",
       "\n",
       "       [[  10,  200,   30,   40],\n",
       "        [   0,   10, 1360,   50],\n",
       "        [  70,   80,   60,   70],\n",
       "        [  80,   90,  100,   10],\n",
       "        [  20,   50,   40,   50]]])"
      ]
     },
     "execution_count": 87,
     "metadata": {},
     "output_type": "execute_result"
    }
   ],
   "source": [
    "test = np.array([[1, 20, 3, 4, 0], [1, 136, 5, 7, 8], [6, 7, 8, 9, 10], [1, 2, 5, 4, 5]])\n",
    "print(test)\n",
    "np.concatenate((test, test*2, test*3, test*4, test*5, test*6, test*7, test*8, test*9, test*10)).reshape(10, test.shape[1], test.shape[0])"
   ]
  },
  {
   "cell_type": "code",
   "execution_count": 88,
   "metadata": {},
   "outputs": [
    {
     "name": "stdout",
     "output_type": "stream",
     "text": [
      "[[30 62 83 ... 91 15 85]\n",
      " [36 13 37 ... 93 22 50]\n",
      " [75 20 10 ... 95 14 99]\n",
      " ...\n",
      " [ 0 42 64 ... 86 26 86]\n",
      " [72  5 54 ... 33 53 29]\n",
      " [40 16 68 ...  8 87 44]]\n"
     ]
    },
    {
     "data": {
      "text/plain": [
       "array([[[ 30,  62,  83, ...,  35,  57,  62],\n",
       "        [ 55,  50,  34, ...,  64,  65,  44],\n",
       "        [ 70,  12,  28, ...,  28,   0,  56],\n",
       "        ...,\n",
       "        [  0,  53,  85, ...,  83,  83,  57],\n",
       "        [ 60,  22,  52, ...,  92,  88,  75],\n",
       "        [ 52,  52,  38, ...,   8,  87,  44]],\n",
       "\n",
       "       [[ 60, 124, 166, ...,  70, 114, 124],\n",
       "        [110, 100,  68, ..., 128, 130,  88],\n",
       "        [140,  24,  56, ...,  56,   0, 112],\n",
       "        ...,\n",
       "        [  0, 106, 170, ..., 166, 166, 114],\n",
       "        [120,  44, 104, ..., 184, 176, 150],\n",
       "        [104, 104,  76, ...,  16, 174,  88]],\n",
       "\n",
       "       [[ 90, 186, 249, ..., 105, 171, 186],\n",
       "        [165, 150, 102, ..., 192, 195, 132],\n",
       "        [210,  36,  84, ...,  84,   0, 168],\n",
       "        ...,\n",
       "        [  0, 159, 255, ..., 249, 249, 171],\n",
       "        [180,  66, 156, ..., 276, 264, 225],\n",
       "        [156, 156, 114, ...,  24, 261, 132]],\n",
       "\n",
       "       ...,\n",
       "\n",
       "       [[240, 496, 664, ..., 280, 456, 496],\n",
       "        [440, 400, 272, ..., 512, 520, 352],\n",
       "        [560,  96, 224, ..., 224,   0, 448],\n",
       "        ...,\n",
       "        [  0, 424, 680, ..., 664, 664, 456],\n",
       "        [480, 176, 416, ..., 736, 704, 600],\n",
       "        [416, 416, 304, ...,  64, 696, 352]],\n",
       "\n",
       "       [[270, 558, 747, ..., 315, 513, 558],\n",
       "        [495, 450, 306, ..., 576, 585, 396],\n",
       "        [630, 108, 252, ..., 252,   0, 504],\n",
       "        ...,\n",
       "        [  0, 477, 765, ..., 747, 747, 513],\n",
       "        [540, 198, 468, ..., 828, 792, 675],\n",
       "        [468, 468, 342, ...,  72, 783, 396]],\n",
       "\n",
       "       [[300, 620, 830, ..., 350, 570, 620],\n",
       "        [550, 500, 340, ..., 640, 650, 440],\n",
       "        [700, 120, 280, ..., 280,   0, 560],\n",
       "        ...,\n",
       "        [  0, 530, 850, ..., 830, 830, 570],\n",
       "        [600, 220, 520, ..., 920, 880, 750],\n",
       "        [520, 520, 380, ...,  80, 870, 440]]])"
      ]
     },
     "execution_count": 88,
     "metadata": {},
     "output_type": "execute_result"
    }
   ],
   "source": [
    "A\n",
    "print(A)\n",
    "np.concatenate((A, A*2, A*3, A*4, A*5, A*6, A*7, A*8, A*9, A*10)).reshape(10, A.shape[1], A.shape[0])"
   ]
  },
  {
   "cell_type": "markdown",
   "metadata": {},
   "source": [
    "# Задание 2.7 (2 балла)\n",
    "\n",
    "Создайте новый массив, такой же размерности, как и `A`, в котором сначала сгруппированы четные столбцы `A`, потом  нечетные. Используйте [np.concat()](https://numpy.org/doc/stable/reference/generated/numpy.concatenate.html) "
   ]
  },
  {
   "cell_type": "code",
   "execution_count": 89,
   "metadata": {},
   "outputs": [
    {
     "name": "stdout",
     "output_type": "stream",
     "text": [
      "[[  1  20   3   4   0]\n",
      " [  1 136   5   7   8]\n",
      " [  6   7   8   9  10]\n",
      " [  1   2   5   4   5]]\n"
     ]
    },
    {
     "data": {
      "text/plain": [
       "array([[  1,   3,   0,  20,   4],\n",
       "       [  1,   5,   8, 136,   7],\n",
       "       [  6,   8,  10,   7,   9],\n",
       "       [  1,   5,   5,   2,   4]])"
      ]
     },
     "execution_count": 89,
     "metadata": {},
     "output_type": "execute_result"
    }
   ],
   "source": [
    "test = np.array([[1, 20, 3, 4, 0], [1, 136, 5, 7, 8], [6, 7, 8, 9, 10], [1, 2, 5, 4, 5]])\n",
    "print(test)\n",
    "np.concatenate((test[:, ::2], test[:, 1::2]), axis=1)"
   ]
  },
  {
   "cell_type": "code",
   "execution_count": 90,
   "metadata": {},
   "outputs": [
    {
     "name": "stdout",
     "output_type": "stream",
     "text": [
      "[[30 62 83 ... 91 15 85]\n",
      " [36 13 37 ... 93 22 50]\n",
      " [75 20 10 ... 95 14 99]\n",
      " ...\n",
      " [ 0 42 64 ... 86 26 86]\n",
      " [72  5 54 ... 33 53 29]\n",
      " [40 16 68 ...  8 87 44]]\n"
     ]
    },
    {
     "data": {
      "text/plain": [
       "array([[30, 83, 14, ..., 42, 91, 85],\n",
       "       [36, 37, 62, ..., 71, 93, 50],\n",
       "       [75, 10, 33, ..., 56, 95, 99],\n",
       "       ...,\n",
       "       [ 0, 64, 33, ..., 64, 86, 86],\n",
       "       [72, 54, 56, ...,  1, 33, 29],\n",
       "       [40, 68, 47, ..., 25,  8, 44]])"
      ]
     },
     "execution_count": 90,
     "metadata": {},
     "output_type": "execute_result"
    }
   ],
   "source": [
    "A\n",
    "print(A)\n",
    "np.concatenate((A[:, ::2], A[:, 1::2]), axis=1)"
   ]
  },
  {
   "cell_type": "markdown",
   "metadata": {},
   "source": [
    "# Задание 2.8 (2 балла)\n",
    "\n",
    "Посчитайте количество строк массива `A`, в который все элементы больше 5. Используйте [np.all()](https://numpy.org/doc/stable/reference/generated/numpy.all.html) "
   ]
  },
  {
   "cell_type": "code",
   "execution_count": 86,
   "metadata": {},
   "outputs": [
    {
     "data": {
      "text/plain": [
       "1"
      ]
     },
     "execution_count": 86,
     "metadata": {},
     "output_type": "execute_result"
    }
   ],
   "source": [
    "test = np.array([[1, 20, 3, 4, 0], [1, 136, 5, 7, 8], [6, 7, 8, 9, 10], [1, 2, 5, 4, 5]])\n",
    "np.all(test > 5, axis = 1).sum()\n",
    "\n"
   ]
  },
  {
   "cell_type": "code",
   "execution_count": 91,
   "metadata": {},
   "outputs": [
    {
     "data": {
      "text/plain": [
       "12"
      ]
     },
     "execution_count": 91,
     "metadata": {},
     "output_type": "execute_result"
    }
   ],
   "source": [
    "A\n",
    "np.all(A> 5, axis = 1).sum()"
   ]
  },
  {
   "attachments": {},
   "cell_type": "markdown",
   "metadata": {},
   "source": [
    "# Задание 2.9 (2 балла)\n",
    "\n",
    "Поделите массив `A` горизонтально на 10 частей и создайте новый массив размерности $20 \\times 5$, который является средним этих частей. Используйте [np.split()](https://numpy.org/doc/stable/reference/generated/numpy.split.html)"
   ]
  },
  {
   "cell_type": "code",
   "execution_count": 100,
   "metadata": {},
   "outputs": [
    {
     "name": "stdout",
     "output_type": "stream",
     "text": [
      "[[  1  20   3   4   0]\n",
      " [  1 136   5   7   8]\n",
      " [  6   7   8   9  10]\n",
      " [  1   2   5   4   5]]\n"
     ]
    },
    {
     "data": {
      "text/plain": [
       "array([[ 2.25, 41.25,  5.25,  6.  ,  5.75]])"
      ]
     },
     "execution_count": 100,
     "metadata": {},
     "output_type": "execute_result"
    }
   ],
   "source": [
    "test = np.array([[1, 20, 3, 4, 0], [1, 136, 5, 7, 8], [6, 7, 8, 9, 10], [1, 2, 5, 4, 5]])\n",
    "print(test)\n",
    "np.mean(np.array(np.split(test, 4)), axis = 0)"
   ]
  },
  {
   "cell_type": "code",
   "execution_count": 101,
   "metadata": {},
   "outputs": [
    {
     "data": {
      "text/plain": [
       "array([[34.7, 62.6, 61.6, 44.6, 47.8, 54.3, 51.4, 45.2, 53.9, 42.4, 41.9,\n",
       "        61.1, 55.1, 41.3, 47.4, 43.1, 66.3, 53.3, 55.9, 54.7, 52.3, 28.9,\n",
       "        33.8, 44.2, 46.3, 49.9, 57.4, 35. , 64.6, 53.7, 51.3, 69.2, 56.7,\n",
       "        47.9, 47.7, 29.1, 57.7, 57. , 33.5, 52.4, 40.4, 58.5, 45.3, 46.2,\n",
       "        42.2, 64.3, 58.1, 47.1, 52.9, 68.6],\n",
       "       [51.3, 57. , 45.8, 40.9, 66.6, 47.9, 36.7, 43.1, 52.9, 45. , 25.9,\n",
       "        37.7, 59.6, 65.5, 43.7, 47.6, 42.9, 58.5, 34.8, 47.7, 42.3, 64.1,\n",
       "        40. , 60.5, 69.1, 38.9, 48.1, 51.6, 49.7, 52.6, 57.6, 48.2, 51.1,\n",
       "        28.3, 50.4, 55. , 39.9, 51.3, 46.5, 42.4, 50. , 47.7, 58.5, 42.5,\n",
       "        69.1, 65.4, 53.8, 66.8, 38.5, 47.8],\n",
       "       [40. , 30.1, 45.7, 46.7, 52.2, 47.9, 29.9, 61.9, 35.5, 54.6, 64.8,\n",
       "        54.2, 38.5, 50.1, 44.5, 40.6, 48.4, 50.4, 41.4, 60.8, 47.6, 51.1,\n",
       "        57.4, 57.7, 56.4, 44.7, 50.6, 44.3, 50.2, 61.3, 45.9, 46.7, 56.1,\n",
       "        46.3, 44.5, 51.6, 47.9, 30.7, 61.1, 43.9, 58.1, 49.4, 42.1, 52.3,\n",
       "        43.1, 43. , 35.2, 39.9, 33.3, 62.5],\n",
       "       [59.3, 56.1, 67.7, 54.7, 48.8, 45.8, 39.8, 72.4, 46. , 51.9, 52.8,\n",
       "        48.2, 47.5, 53.6, 47.8, 50.8, 44.1, 50.5, 55.1, 75.5, 40.5, 59.6,\n",
       "        56.8, 46.5, 57.4, 58.3, 46.3, 56.6, 28.4, 26.9, 65.7, 49.4, 44.2,\n",
       "        68.6, 38.9, 71.2, 62.3, 56.6, 65.4, 63.9, 42. , 64.9, 60.8, 33.5,\n",
       "        46.1, 44.2, 55.4, 49.7, 46.2, 48.5],\n",
       "       [37.1, 51.5, 49.1, 46.7, 63.3, 52.8, 43.2, 35.6, 43.2, 58.4, 48.1,\n",
       "        61.6, 44.7, 49.9, 47.6, 46.5, 51.7, 65.2, 53.5, 56.8, 39.3, 38.9,\n",
       "        58.4, 35.2, 59.2, 50.6, 47.6, 57.9, 49.4, 47.2, 57.8, 53.2, 39. ,\n",
       "        46.7, 52.5, 36.2, 47.7, 52.4, 65.7, 57.7, 52.5, 54.5, 61.3, 54. ,\n",
       "        52.6, 47.6, 43. , 43. , 63.8, 46.2],\n",
       "       [48.2, 44.9, 52.1, 47.4, 54.8, 43. , 55.3, 61.7, 55.3, 46.6, 34.9,\n",
       "        51.1, 59.6, 60.7, 43.7, 45.9, 57.9, 51.5, 52.3, 50.5, 47.2, 68. ,\n",
       "        43.4, 35.1, 54.8, 30. , 61.6, 36. , 70.4, 52. , 45.8, 55. , 54.8,\n",
       "        42.3, 50.3, 63.1, 42.3, 41.5, 62.6, 50.8, 46.2, 65.5, 41. , 53.9,\n",
       "        50.3, 40.7, 51.2, 57.3, 60.6, 54.7],\n",
       "       [59.6, 44.8, 53.6, 42.3, 49.9, 38.8, 67.5, 59.5, 41.1, 48.1, 45.6,\n",
       "        38.4, 52.2, 39.9, 51.6, 53.7, 57.4, 42.2, 46.4, 48.2, 60.6, 45.3,\n",
       "        58.6, 58.4, 41.5, 54.5, 50. , 51.6, 69.2, 58.2, 53.7, 30.6, 37.5,\n",
       "        27.5, 56.6, 41.5, 58.3, 45.2, 48.8, 42. , 69. , 33.1, 37. , 29.9,\n",
       "        50.8, 59.7, 59.4, 53.4, 50.8, 57.3],\n",
       "       [60.2, 49.4, 58.5, 53. , 48.6, 41.1, 57. , 23.5, 48.5, 57.8, 40.7,\n",
       "        47.8, 36.2, 49.4, 55.8, 50.4, 48.6, 50.8, 51.8, 45.3, 42.1, 46.3,\n",
       "        48.5, 63.4, 42.5, 49.6, 42.1, 50.9, 39.7, 58.7, 31.4, 66.1, 46.7,\n",
       "        58.9, 47.1, 46.2, 59.3, 62.5, 50. , 53.8, 43.1, 55.6, 39.7, 47.3,\n",
       "        58.5, 44.1, 38.5, 46.2, 62.5, 45.2],\n",
       "       [41. , 60.6, 45.8, 57.7, 73.2, 53.6, 38.4, 62.8, 53.9, 49.6, 55.9,\n",
       "        48.8, 58.2, 55.8, 45.1, 34.2, 46.2, 58.2, 65.7, 38.9, 50.5, 46.5,\n",
       "        47.5, 57. , 43.3, 57.8, 49.4, 58.5, 45.4, 61.4, 41.4, 31.6, 53. ,\n",
       "        46. , 44.6, 59.4, 50.2, 66.8, 48.2, 51.4, 45.8, 57.3, 39. , 45.6,\n",
       "        55.1, 53.2, 64.7, 54.8, 61.5, 51.8],\n",
       "       [62.3, 59. , 52.3, 45.2, 63.7, 55. , 49. , 45.6, 51.3, 39.8, 49.7,\n",
       "        32.4, 32.8, 45.9, 50.5, 64. , 50.6, 55.2, 41.6, 44. , 56. , 58.3,\n",
       "        45.8, 49.9, 36.7, 48.7, 63.9, 47.5, 42.5, 49.5, 57.1, 32.6, 42.8,\n",
       "        54. , 50.4, 51.9, 21.5, 54.5, 39. , 47.7, 59.4, 49.7, 59.1, 49.1,\n",
       "        48. , 39.1, 48.2, 56.8, 47.7, 49.1],\n",
       "       [56.6, 37.5, 39.3, 65.1, 55.2, 42.5, 51.6, 48.5, 50.4, 52. , 63.4,\n",
       "        46.2, 62.7, 52.3, 47.8, 42.1, 45.7, 52.9, 56.8, 55.9, 52.1, 57.9,\n",
       "        35.8, 43.8, 49.2, 52.8, 57. , 46.3, 62.4, 59.9, 57.8, 35.2, 41.9,\n",
       "        58. , 34.7, 55.2, 49. , 57.3, 51.1, 32.6, 40.5, 40.2, 55.9, 34.1,\n",
       "        52.2, 41.9, 41.5, 42.5, 53.3, 34.1],\n",
       "       [43.7, 30.5, 63.3, 44.1, 46.4, 71.2, 53.4, 48.8, 50. , 34.7, 39. ,\n",
       "        45.8, 45.3, 52. , 48.5, 46.4, 45.4, 55.4, 39. , 56.7, 55. , 61.1,\n",
       "        46.4, 40.7, 53.6, 46.8, 44.2, 51. , 57.3, 70.9, 52.5, 46.8, 40.2,\n",
       "        56.5, 41.5, 54.6, 39.7, 57.5, 46.1, 50.2, 45.4, 46.9, 52.5, 38.2,\n",
       "        54.3, 35.9, 58.1, 53.9, 37. , 43.8],\n",
       "       [48.1, 46.5, 42.5, 41.7, 59.4, 56. , 59.1, 59.7, 38.9, 47.7, 38.4,\n",
       "        27. , 68.4, 47.1, 54.6, 51.2, 53.5, 45.2, 47. , 62.3, 55.2, 61.3,\n",
       "        42. , 25.3, 45.5, 44.3, 40.6, 62.4, 64.8, 44.9, 50.6, 52.7, 56.4,\n",
       "        59.6, 56.7, 46.3, 35.8, 58.8, 61.4, 57.9, 50.2, 42.5, 39.3, 48.7,\n",
       "        60. , 60.1, 43.1, 60.4, 71.5, 44.1],\n",
       "       [56.8, 47.9, 52.7, 53.1, 58.9, 58.7, 48.1, 39.1, 44.4, 45.4, 57.7,\n",
       "        50.7, 47.2, 46.2, 54.5, 40.3, 59.3, 58. , 59.5, 58.7, 49.3, 55.2,\n",
       "        57.4, 57. , 49.3, 43.8, 48.7, 61.7, 48.1, 49.9, 41.2, 47.4, 48.5,\n",
       "        41.6, 58.4, 49.8, 36.1, 50.3, 58.4, 60.5, 65.4, 58.3, 44.5, 60.8,\n",
       "        34.3, 39.7, 45.1, 56.3, 50.4, 60. ],\n",
       "       [34.1, 54.6, 51.4, 66.6, 44.2, 63.4, 39.7, 58. , 52.8, 66.9, 52.5,\n",
       "        28.7, 49.9, 40.1, 44.3, 46.3, 56.3, 70. , 38.5, 54.5, 45.9, 36.3,\n",
       "        59.3, 48. , 51.8, 49.4, 57.3, 50.3, 53.7, 43.4, 38.6, 55.7, 47.6,\n",
       "        44.8, 39.9, 61.4, 63.6, 41.4, 60.4, 55.7, 55.5, 67.2, 37.8, 37.3,\n",
       "        59.3, 50.4, 53.2, 51.9, 38. , 53.3],\n",
       "       [43.8, 33.9, 46.4, 34.3, 55.2, 68.6, 44.6, 43.1, 42.3, 47.9, 55.5,\n",
       "        67.5, 45. , 41.3, 31.8, 63.7, 35.9, 39. , 40.1, 55.8, 64.8, 40.3,\n",
       "        66.5, 48.7, 54.3, 51.9, 52.4, 29. , 54.1, 39.8, 47.8, 44.6, 51.4,\n",
       "        39.5, 38.6, 56.8, 52.1, 47.4, 57.2, 40.5, 46.6, 44.8, 44.3, 51.8,\n",
       "        65.6, 43.5, 62.1, 49.5, 47.3, 59.1],\n",
       "       [58. , 50.7, 53.6, 43.4, 65.4, 58.3, 57.7, 50.8, 49.4, 55.9, 34.1,\n",
       "        46.9, 35. , 40.7, 60.4, 38.3, 41.6, 57.2, 35.2, 46.2, 59.5, 49.1,\n",
       "        58.3, 43.2, 60.3, 55.8, 45.7, 47.9, 45.7, 62.8, 38.9, 46. , 52.4,\n",
       "        54.7, 44.9, 49.5, 62. , 40.6, 51.1, 53.9, 53.1, 42.6, 45.6, 38.8,\n",
       "        64.6, 43.7, 45.6, 38.8, 51.8, 45.4],\n",
       "       [46.2, 68.8, 66.5, 33.9, 55.2, 47.4, 54.5, 44.8, 50.5, 35.1, 51.1,\n",
       "        51.2, 41.9, 52. , 47.1, 46.1, 51.4, 49. , 48.8, 64.2, 63.8, 65.2,\n",
       "        54.3, 29.2, 58.5, 65.1, 61.5, 20.3, 52.6, 64. , 53.9, 56.1, 47.7,\n",
       "        35.6, 37.6, 57. , 49.4, 54.3, 60.9, 35.3, 49.2, 43.9, 49.6, 62.6,\n",
       "        39.5, 41.7, 49. , 41.9, 62.4, 56.3],\n",
       "       [46.1, 28.4, 28.6, 50. , 44.2, 61.7, 65.1, 52. , 70.1, 32. , 50.8,\n",
       "        41.5, 51.8, 41.7, 47.8, 49.2, 38.8, 51. , 36.2, 62. , 52.2, 41.6,\n",
       "        43.5, 58.8, 61.7, 45.9, 59.2, 51.6, 34.7, 55.9, 62.9, 39.3, 29.7,\n",
       "        50. , 43.1, 43.6, 69.2, 41.3, 45.8, 25.9, 39.2, 31.1, 50. , 55.3,\n",
       "        34.8, 43.7, 45.9, 41.7, 56.9, 43.3],\n",
       "       [43.6, 55.1, 53.4, 56.4, 46.3, 44.8, 53.2, 39.8, 43.1, 58.9, 63. ,\n",
       "        47. , 49.4, 37.4, 51.3, 43.1, 42.1, 38.1, 50.2, 59.3, 54. , 45.9,\n",
       "        38.5, 47.9, 49.7, 53.7, 59.9, 36.2, 46.9, 52.1, 36.5, 33.7, 44.6,\n",
       "        52.5, 26.3, 57.2, 48.4, 35.3, 29.7, 57.9, 46.1, 67.6, 44.7, 50.7,\n",
       "        56.5, 33.7, 42. , 32.5, 42.9, 52.4]])"
      ]
     },
     "execution_count": 101,
     "metadata": {},
     "output_type": "execute_result"
    }
   ],
   "source": [
    "A\n",
    "np.mean(np.array(np.split(A, 10)), axis = 0)"
   ]
  },
  {
   "cell_type": "markdown",
   "metadata": {},
   "source": [
    "# Задание 2.10 (4 балла)\n",
    "\n",
    "\"Разверните\" массив `A` в одномерный массив. Оставьте в нём только уникальные элементы в том же порядке, в котором они встречаются в массиве. Используйте [np.unique()](https://numpy.org/doc/stable/reference/generated/numpy.unique.html)"
   ]
  },
  {
   "cell_type": "code",
   "execution_count": 109,
   "metadata": {},
   "outputs": [
    {
     "data": {
      "text/plain": [
       "array([ 1,  0,  6,  7,  8,  9, 10,  2,  3,  4,  5])"
      ]
     },
     "execution_count": 109,
     "metadata": {},
     "output_type": "execute_result"
    }
   ],
   "source": [
    "test = np.array([[1, 1, 1, 1, 0], [1, 1, 1, 0, 1], [6, 7, 8, 9, 10], [1, 2, 3, 4, 5]])\n",
    "uniq, index = np.unique(test.reshape(1, test.shape[0]*test.shape[1]), return_index=True)\n",
    "uniq[index.argsort()]"
   ]
  },
  {
   "cell_type": "code",
   "execution_count": 111,
   "metadata": {},
   "outputs": [
    {
     "data": {
      "text/plain": [
       "array([30, 62, 83, 27, 14, 98, 43, 69, 73, 21, 95, 65, 13,  0, 24,  8, 10,\n",
       "       11, 67, 77, 17, 54, 35, 84, 63, 99, 28, 42, 23, 96, 15, 86, 93, 55,\n",
       "        7, 12, 44, 70, 52, 91, 85, 36, 37, 97, 22,  4, 57, 53, 33, 46, 50,\n",
       "       41, 79, 18, 68,  5, 56, 25, 31, 71, 75, 20, 94, 76, 81, 45, 38, 80,\n",
       "       58, 26, 19, 92,  9, 88, 47, 64, 78, 74,  1, 87, 90, 66, 61, 16, 89,\n",
       "       60, 59, 34, 32, 39, 48, 72, 40, 29,  3, 51,  6, 82,  2, 49])"
      ]
     },
     "execution_count": 111,
     "metadata": {},
     "output_type": "execute_result"
    }
   ],
   "source": [
    "A\n",
    "uniq, index = np.unique(A.reshape(1, A.shape[0]*A.shape[1]), return_index=True)\n",
    "uniq[index.argsort()]"
   ]
  },
  {
   "cell_type": "markdown",
   "metadata": {},
   "source": [
    "# Задание 2.11 (3 балла)\n",
    "\n",
    "Создайте одномерный массив размерности $200$, в котором каждый элемент - евклидово расстояние между соответствующей строкой `A` и \"средней\" строкой `A`"
   ]
  },
  {
   "cell_type": "code",
   "execution_count": null,
   "metadata": {},
   "outputs": [],
   "source": []
  },
  {
   "cell_type": "markdown",
   "metadata": {},
   "source": [
    "# Задание 2.12 (2 балла)\n",
    "\n",
    "Создайте новый массив, который состоит из элементов `A`, измененных по следующим правилам:\n",
    "- если элемент меньше $50$, то он умножается на $2$\n",
    "- в противном случае он умножается на $3$\n",
    "\n",
    "Используйте [np.where()](https://numpy.org/doc/stable/reference/generated/numpy.where.html)"
   ]
  },
  {
   "cell_type": "code",
   "execution_count": 115,
   "metadata": {},
   "outputs": [
    {
     "name": "stdout",
     "output_type": "stream",
     "text": [
      "[[300  40   6   8   0]\n",
      " [  2 408  10 210  16]\n",
      " [ 12  14 174  18  20]\n",
      " [  2   4 156   8  10]]\n"
     ]
    }
   ],
   "source": [
    "a = np.array([[100, 20, 3, 4, 0], [1, 136, 5, 70, 8], [6, 7, 58, 9, 10], [1, 2, 52, 4, 5]])\n",
    "b = np.where(a<50, a*2, a*3)\n",
    "print(b)"
   ]
  },
  {
   "cell_type": "code",
   "execution_count": 116,
   "metadata": {},
   "outputs": [
    {
     "name": "stdout",
     "output_type": "stream",
     "text": [
      "[[ 60 186 249 ... 273  30 255]\n",
      " [ 72  26  74 ... 279  44 150]\n",
      " [225  40  20 ... 285  28 297]\n",
      " ...\n",
      " [  0  84 192 ... 258  52 258]\n",
      " [216  10 162 ...  66 159  58]\n",
      " [ 80  32 204 ...  16 261  88]]\n"
     ]
    }
   ],
   "source": [
    "a = A\n",
    "b = np.where(a<50, a*2, a*3)\n",
    "print(b)"
   ]
  },
  {
   "attachments": {},
   "cell_type": "markdown",
   "metadata": {},
   "source": [
    "# Задание 2.13 (7 баллов)\n",
    "\n",
    "Разверните массив `A` в одномерный массив. Создайте три новых массива, подсчитав скользящие средние по окнам $3$, $5$, $10$. Найдите сумму этих массивов, выровнив из размерности нулями справа\n",
    "\n",
    "*Tip: реализуйте функцию, которая считает скользящее среднее. Используйте [np.cumsum()](https://numpy.org/doc/stable/reference/generated/numpy.cumsum.html) или [np.convolve()](https://numpy.org/doc/stable/reference/generated/numpy.convolve.html)* "
   ]
  },
  {
   "cell_type": "code",
   "execution_count": 117,
   "metadata": {},
   "outputs": [
    {
     "name": "stdout",
     "output_type": "stream",
     "text": [
      "[ 32.1         33.6         48.83333333  49.06666667  94.16666667\n",
      "  98.43333333 101.43333333  19.56666667  20.5         20.6\n",
      "  20.7         15.          15.          12.06666667   8.73333333\n",
      "   6.06666667   3.66666667   4.66666667]\n"
     ]
    }
   ],
   "source": [
    "def moving_avg(x, n):\n",
    "    cumsum = np.cumsum(np.insert(x, 0, 0))\n",
    "    return ((cumsum[n:] - cumsum[:-n]) / float(n))\n",
    "\n",
    "test = np.array([[1, 20, 3, 4, 0], [1, 136, 5, 7, 8], [6, 7, 8, 9, 10], [1, 2, 5, 4, 5]])\n",
    "test_1d = test.reshape(1, test.shape[0]*test.shape[1])[0]\n",
    "\n",
    "first_arr = moving_avg(test_1d, 3)\n",
    "second_arr = moving_avg(test_1d, 5)\n",
    "third_arr = moving_avg(test_1d, 10)\n",
    "second_arr = np.pad(second_arr, (0, first_arr.shape[0] - second_arr.shape[0]), 'constant')\n",
    "third_arr = np.pad(third_arr, (0, first_arr.shape[0] - third_arr.shape[0]), 'constant')\n",
    "result = first_arr + second_arr + third_arr\n",
    "print(result)"
   ]
  },
  {
   "cell_type": "markdown",
   "metadata": {},
   "source": [
    "# Задание 2.14 (8 баллов)\n",
    "\n",
    "Постройте график функции $$f(x) = (5  \\sin(2x) - \\cos^2(x) - 1 + |x^3| - x^2) / (x^2 + 1)$$  \n",
    "\n",
    "и производной от этой функции.  Найдите минимум с помощью `scipy` и обозначьте его на графике. На этой же оси постройте графики скользящего среднего этой функции с окном $1$, $2$, $5$."
   ]
  },
  {
   "cell_type": "code",
   "execution_count": 133,
   "metadata": {},
   "outputs": [
    {
     "name": "stdout",
     "output_type": "stream",
     "text": [
      "Optimization terminated successfully.\n",
      "         Current function value: -4.882074\n",
      "         Iterations: 23\n",
      "         Function evaluations: 46\n"
     ]
    },
    {
     "data": {
      "image/png": "[encoded data removed]",
      "text/plain": [
       "<Figure size 432x288 with 1 Axes>"
      ]
     },
     "metadata": {},
     "output_type": "display_data"
    }
   ],
   "source": [
    "import matplotlib.pyplot as plt\n",
    "from scipy.misc import derivative\n",
    "from scipy.optimize import fmin\n",
    "\n",
    "def f(x):\n",
    "    return (5 * np.sin(2*x) - np.cos(x)**2 - 1 + abs(x**3) - x**2) / (x**2 + 1)\n",
    "\n",
    "\n",
    "x = np.arange(-10, 10, 0.1)\n",
    "y = f(x)\n",
    "diff = derivative(f, x, dx=1e-6)\n",
    "f_min = fmin(f, np.array([0]))\n",
    "\n",
    "f_1 = moving_avg(y, 1)\n",
    "f_2 = moving_avg(y, 2)\n",
    "f_3 = moving_avg(y, 5)\n",
    "\n",
    "fig, ax = plt.subplots()\n",
    "\n",
    "ax.plot(x, y,\n",
    "        linestyle = '-',\n",
    "        linewidth = 2,\n",
    "        color = 'red')\n",
    "\n",
    "ax.plot(x, diff,\n",
    "        linestyle = '-',\n",
    "        linewidth = 2,\n",
    "        color = 'green')\n",
    "\n",
    "ax.plot(x, f_1,\n",
    "        linestyle = '--',\n",
    "        linewidth = 1.5,\n",
    "        color = 'blue')\n",
    "\n",
    "ax.plot(x[1:], f_2,\n",
    "        linestyle = '--',\n",
    "        linewidth = 1,\n",
    "        color = 'yellow')\n",
    "\n",
    "ax.plot(x[4:], f_3,\n",
    "        linestyle = '--',\n",
    "        linewidth = 1,\n",
    "        color = 'black')\n",
    "\n",
    "ax.plot(f_min, f(f_min),'ro')\n",
    "plt.show()\n"
   ]
  },
  {
   "cell_type": "markdown",
   "metadata": {},
   "source": [
    "# Задание 2.15 (10 баллов)\n",
    "\n",
    "Есть следующий алгоритм семплинирования, на вход функции подается вектор из целых положительных чисел и число семплов."
   ]
  },
  {
   "cell_type": "code",
   "execution_count": 2,
   "metadata": {},
   "outputs": [
    {
     "data": {
      "text/plain": [
       "[0, 4, 4, 0, 0]"
      ]
     },
     "execution_count": 2,
     "metadata": {},
     "output_type": "execute_result"
    }
   ],
   "source": [
    "from typing import List \n",
    "\n",
    "def sample(x: List[int], c: int) -> List[int]:\n",
    "    assert len(x) > 0\n",
    "    \n",
    "    s = np.sum(x)\n",
    "    res = []\n",
    "    for _ in range(c):\n",
    "        val = s * np.random.random()\n",
    "        cur, idx = 0, 0        \n",
    "        while cur + x[idx] <= val:\n",
    "            cur += x[idx]\n",
    "            idx += 1\n",
    "            \n",
    "        res.append(idx)\n",
    "    return res\n",
    "\n",
    "            \n",
    "sample([50, 3, 1, 7, 20], 5)   "
   ]
  },
  {
   "cell_type": "markdown",
   "metadata": {},
   "source": [
    "Реализуйте данный алгоритм более оптимальным способом на массивах `numpy`, без использования циклов. Проверьте корректность и идентичность алгоритмов семплирования с помощью статистических тестов."
   ]
  },
  {
   "cell_type": "code",
   "execution_count": null,
   "metadata": {},
   "outputs": [],
   "source": []
  },
  {
   "cell_type": "markdown",
   "metadata": {},
   "source": [
    "# Задание 2.16 (5 баллов)\n",
    "\n",
    "Есть следующий алгоритм \"случайного блуждания\""
   ]
  },
  {
   "cell_type": "code",
   "execution_count": 136,
   "metadata": {},
   "outputs": [
    {
     "data": {
      "text/plain": [
       "2247"
      ]
     },
     "execution_count": 136,
     "metadata": {},
     "output_type": "execute_result"
    }
   ],
   "source": [
    "import random \n",
    "import timeit\n",
    "\n",
    "def walk(n: int):\n",
    "    cur_position = 0\n",
    "    for i in range(n):\n",
    "        cur_position += random.choice([-3, -1, 0, 2, 3])\n",
    "\n",
    "    return cur_position\n",
    "\n",
    "walk(10_000)\n"
   ]
  },
  {
   "cell_type": "markdown",
   "metadata": {},
   "source": [
    "Реализуйте более эффективную версию с помощью `numpy`, сравните производительность (используя, например, magic `timeit`). Воспользовавшись [kdeplot()](https://seaborn.pydata.org/generated/seaborn.kdeplot.html) или аналогами, постройте график распределения значений `walk(10_000)` на каком-то разумном числе запусков. "
   ]
  },
  {
   "cell_type": "code",
   "execution_count": 137,
   "metadata": {},
   "outputs": [
    {
     "name": "stdout",
     "output_type": "stream",
     "text": [
      "walk.numpy - 1000 times: 0.13754s\n",
      "walk.python - 1000 times: 3.76640s\n"
     ]
    },
    {
     "data": {
      "text/plain": [
       "<AxesSubplot:ylabel='Density'>"
      ]
     },
     "execution_count": 137,
     "metadata": {},
     "output_type": "execute_result"
    },
    {
     "data": {
      "image/png": "[encoded data removed]",
      "text/plain": [
       "<Figure size 432x288 with 1 Axes>"
      ]
     },
     "metadata": {},
     "output_type": "display_data"
    }
   ],
   "source": [
    "import time\n",
    "import typing as _t\n",
    "from functools import wraps\n",
    "\n",
    "\n",
    "def timeit(count: int, name: _t.Optional[str] = None) -> _t.Callable:\n",
    "    def wrapper(func: _t.Callable) -> _t.Callable:\n",
    "        funcname = name if name else func.__name__\n",
    "        @wraps(func)\n",
    "        def clock(*args, **kwargs) -> _t.List:\n",
    "            start = time.time()\n",
    "            result = [func(*args, **kwargs) for _ in range(count)]\n",
    "            end = time.time()\n",
    "            print(f'{funcname} - {count} times: {end - start:.5f}s')\n",
    "            return result\n",
    "        return clock\n",
    "    return wrapper\n",
    "\n",
    "data = [-3, -1, 0, 2, 3]\n",
    "\n",
    "@timeit(1000, name='walk.numpy')\n",
    "def walk_numpy(n: int) -> int:\n",
    "    return np.random.choice(data, n).sum()\n",
    "\n",
    "walk_python = timeit(1000, name='walk.python')(walk)\n",
    "\n",
    "result = walk_numpy(10_000)\n",
    "walk_python(10_000)\n",
    "sns.kdeplot(result)"
   ]
  },
  {
   "cell_type": "markdown",
   "metadata": {},
   "source": [
    "# Задание 2.17 (5 баллов)\n",
    "\n",
    "Имеется функция, которая проделывает достаточно странные манипуляции с массивом `numpy`"
   ]
  },
  {
   "cell_type": "code",
   "execution_count": 4,
   "metadata": {},
   "outputs": [
    {
     "data": {
      "text/plain": [
       "-0.13580565475012618"
      ]
     },
     "execution_count": 4,
     "metadata": {},
     "output_type": "execute_result"
    }
   ],
   "source": [
    "import numpy.typing as npt\n",
    "\n",
    "def strange_conv(a: npt.NDArray[np.float64]) -> np.float64:\n",
    "    x = a.shape[0]\n",
    "    y = a.shape[1]\n",
    "\n",
    "    t = 1.\n",
    "    for y in range(y - 5):\n",
    "        for x in range(x - 3):\n",
    "            c = 1.5 * a[y+1, x+2] - a[y+5, x+3] * a[y, x] + 0.2 * a[y+4, x]\n",
    "            t = 0.2 * t + 0.8 * c\n",
    "\n",
    "    return t\n",
    "\n",
    "\n",
    "a = np.random.random((10000, 10000))\n",
    "strange_conv(a)\n"
   ]
  },
  {
   "cell_type": "markdown",
   "metadata": {},
   "source": [
    "Оптимизируйте данную функцию с помощью (2 на выбор):\n",
    "- [Numba](https://numba.pydata.org)\n",
    "- `Cython` (+5 баллов)\n",
    "- [Taichi](https://github.com/taichi-dev/taichi) (+5 баллов)\n",
    "- `Pythran `[[1]](https://pythran.readthedocs.io/en/latest/), [[2]](https://serge-sans-paille.github.io/pythran-stories/pythran-tutorial.html) (+2 балла)\n",
    "\n",
    "Сравните производительность."
   ]
  },
  {
   "cell_type": "code",
   "execution_count": null,
   "metadata": {},
   "outputs": [],
   "source": []
  }
 ],
 "metadata": {
  "kernelspec": {
   "display_name": "base",
   "language": "python",
   "name": "python3"
  },
  "language_info": {
   "codemirror_mode": {
    "name": "ipython",
    "version": 3
   },
   "file_extension": ".py",
   "mimetype": "text/x-python",
   "name": "python",
   "nbconvert_exporter": "python",
   "pygments_lexer": "ipython3",
   "version": "3.9.12"
  },
  "orig_nbformat": 4,
  "vscode": {
   "interpreter": {
    "hash": "95986ac8e5e9052c70989ceb89f84eded26e4f60454b59b1a1f7277ffcb66634"
   }
  }
 },
 "nbformat": 4,
 "nbformat_minor": 2
}
